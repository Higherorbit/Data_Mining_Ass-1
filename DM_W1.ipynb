{
 "cells": [
  {
   "cell_type": "markdown",
   "metadata": {
    "id": "631J6ed3Vooe"
   },
   "source": [
    "# **Assignment-1 Data Preprocessing**\n",
    "Data Preprocessing is a technique that is used to convert the raw data into a clean data set. In this assignment, we will do a data preprocessing on hotel dataset. We will see how to read, access, clean, filter and plot a dataset. For each of the questions, write the code in the cell below."
   ]
  },
  {
   "cell_type": "markdown",
   "source": [
    "### **Loading the dataset**\n",
    "In the following cell,write the code to load the csv file and make the dataframe using the pandas library"
   ],
   "metadata": {
    "id": "HXu9RYXHLeAC"
   }
  },
  {
   "cell_type": "code",
   "execution_count": 107,
   "metadata": {
    "id": "kzdR3TPWWjbs"
   },
   "outputs": [],
   "source": [
    "import pandas as pd\n",
    "data = pd.read_csv(\"hotel_bookings1.csv\")"
   ]
  },
  {
   "cell_type": "markdown",
   "source": [
    "### **Questions**"
   ],
   "metadata": {
    "id": "IrrJIJbBUFl3"
   }
  },
  {
   "cell_type": "markdown",
   "metadata": {
    "id": "ZvfFzzBliHzX"
   },
   "source": [
    "Q1) \n",
    "The website hired a data scientist to analyse the large set of customer data.  The data scientist needs a dataset in order to analyse the customer data and perform some operations initially. Your task is to help the data scientist by  loading the dataset into a dataframe, printing the number of rows and columns and printing the value of first 10 rows.\n",
    "\n",
    "**Task-1**: Print the number of rows and columns of the dataframe.[1/2 marks]\\\n",
    "**Task-2**: Print the first 10 rows of the dataframe. [1/2 marks]"
   ]
  },
  {
   "cell_type": "code",
   "execution_count": 108,
   "metadata": {
    "id": "mYAox9pUiroI"
   },
   "outputs": [
    {
     "name": "stdout",
     "output_type": "stream",
     "text": [
      "Number of rows= 119390\n",
      "Number of columns= 32\n"
     ]
    },
    {
     "data": {
      "text/plain": "          hotel  is_canceled  lead_time  arrival_date_year arrival_date_month  \\\n0  Resort Hotel            0      342.0               2015               July   \n1  Resort Hotel            0      737.0               2015               July   \n2  Resort Hotel            0        NaN               2015               July   \n3  Resort Hotel            0       13.0               2015               July   \n4  Resort Hotel            0       14.0               2015               July   \n5  Resort Hotel            0       14.0               2015               July   \n6  Resort Hotel            0        0.0               2015               July   \n7  Resort Hotel            0        9.0               2015               July   \n8  Resort Hotel            1       85.0               2015               July   \n9  Resort Hotel            1       75.0               2015               July   \n\n   arrival_date_week_number  arrival_date_day_of_month  \\\n0                        27                          1   \n1                        27                          1   \n2                        27                          1   \n3                        27                          1   \n4                        27                          1   \n5                        27                          1   \n6                        27                          1   \n7                        27                          1   \n8                        27                          1   \n9                        27                          1   \n\n   stays_in_weekend_nights  stays_in_week_nights  adults  ...  deposit_type  \\\n0                        0                     0       2  ...    No Deposit   \n1                        0                     0       2  ...    No Deposit   \n2                        0                     1       1  ...    No Deposit   \n3                        0                     1       1  ...    No Deposit   \n4                        0                     2       2  ...    No Deposit   \n5                        0                     2       2  ...    No Deposit   \n6                        0                     2       2  ...    No Deposit   \n7                        0                     2       2  ...    No Deposit   \n8                        0                     3       2  ...    No Deposit   \n9                        0                     3       2  ...    No Deposit   \n\n   agent company days_in_waiting_list customer_type    adr  \\\n0    NaN     NaN                    0     Transient    0.0   \n1    NaN     NaN                    0     Transient    0.0   \n2    NaN     NaN                    0     Transient   75.0   \n3  304.0     NaN                    0     Transient   75.0   \n4  240.0     NaN                    0     Transient   98.0   \n5  240.0     NaN                    0     Transient   98.0   \n6    NaN     NaN                    0     Transient  107.0   \n7  303.0     NaN                    0     Transient  103.0   \n8  240.0     NaN                    0     Transient   82.0   \n9   15.0     NaN                    0     Transient  105.5   \n\n   required_car_parking_spaces  total_of_special_requests  reservation_status  \\\n0                            0                          0           Check-Out   \n1                            0                          0           Check-Out   \n2                            0                          0           Check-Out   \n3                            0                          0           Check-Out   \n4                            0                          1           Check-Out   \n5                            0                          1           Check-Out   \n6                            0                          0           Check-Out   \n7                            0                          1           Check-Out   \n8                            0                          1            Canceled   \n9                            0                          0            Canceled   \n\n  reservation_status_date  \n0              01-07-2015  \n1              01-07-2015  \n2              02-07-2015  \n3              02-07-2015  \n4              03-07-2015  \n5              03-07-2015  \n6              03-07-2015  \n7              03-07-2015  \n8              06-05-2015  \n9              22-04-2015  \n\n[10 rows x 32 columns]",
      "text/html": "<div>\n<style scoped>\n    .dataframe tbody tr th:only-of-type {\n        vertical-align: middle;\n    }\n\n    .dataframe tbody tr th {\n        vertical-align: top;\n    }\n\n    .dataframe thead th {\n        text-align: right;\n    }\n</style>\n<table border=\"1\" class=\"dataframe\">\n  <thead>\n    <tr style=\"text-align: right;\">\n      <th></th>\n      <th>hotel</th>\n      <th>is_canceled</th>\n      <th>lead_time</th>\n      <th>arrival_date_year</th>\n      <th>arrival_date_month</th>\n      <th>arrival_date_week_number</th>\n      <th>arrival_date_day_of_month</th>\n      <th>stays_in_weekend_nights</th>\n      <th>stays_in_week_nights</th>\n      <th>adults</th>\n      <th>...</th>\n      <th>deposit_type</th>\n      <th>agent</th>\n      <th>company</th>\n      <th>days_in_waiting_list</th>\n      <th>customer_type</th>\n      <th>adr</th>\n      <th>required_car_parking_spaces</th>\n      <th>total_of_special_requests</th>\n      <th>reservation_status</th>\n      <th>reservation_status_date</th>\n    </tr>\n  </thead>\n  <tbody>\n    <tr>\n      <th>0</th>\n      <td>Resort Hotel</td>\n      <td>0</td>\n      <td>342.0</td>\n      <td>2015</td>\n      <td>July</td>\n      <td>27</td>\n      <td>1</td>\n      <td>0</td>\n      <td>0</td>\n      <td>2</td>\n      <td>...</td>\n      <td>No Deposit</td>\n      <td>NaN</td>\n      <td>NaN</td>\n      <td>0</td>\n      <td>Transient</td>\n      <td>0.0</td>\n      <td>0</td>\n      <td>0</td>\n      <td>Check-Out</td>\n      <td>01-07-2015</td>\n    </tr>\n    <tr>\n      <th>1</th>\n      <td>Resort Hotel</td>\n      <td>0</td>\n      <td>737.0</td>\n      <td>2015</td>\n      <td>July</td>\n      <td>27</td>\n      <td>1</td>\n      <td>0</td>\n      <td>0</td>\n      <td>2</td>\n      <td>...</td>\n      <td>No Deposit</td>\n      <td>NaN</td>\n      <td>NaN</td>\n      <td>0</td>\n      <td>Transient</td>\n      <td>0.0</td>\n      <td>0</td>\n      <td>0</td>\n      <td>Check-Out</td>\n      <td>01-07-2015</td>\n    </tr>\n    <tr>\n      <th>2</th>\n      <td>Resort Hotel</td>\n      <td>0</td>\n      <td>NaN</td>\n      <td>2015</td>\n      <td>July</td>\n      <td>27</td>\n      <td>1</td>\n      <td>0</td>\n      <td>1</td>\n      <td>1</td>\n      <td>...</td>\n      <td>No Deposit</td>\n      <td>NaN</td>\n      <td>NaN</td>\n      <td>0</td>\n      <td>Transient</td>\n      <td>75.0</td>\n      <td>0</td>\n      <td>0</td>\n      <td>Check-Out</td>\n      <td>02-07-2015</td>\n    </tr>\n    <tr>\n      <th>3</th>\n      <td>Resort Hotel</td>\n      <td>0</td>\n      <td>13.0</td>\n      <td>2015</td>\n      <td>July</td>\n      <td>27</td>\n      <td>1</td>\n      <td>0</td>\n      <td>1</td>\n      <td>1</td>\n      <td>...</td>\n      <td>No Deposit</td>\n      <td>304.0</td>\n      <td>NaN</td>\n      <td>0</td>\n      <td>Transient</td>\n      <td>75.0</td>\n      <td>0</td>\n      <td>0</td>\n      <td>Check-Out</td>\n      <td>02-07-2015</td>\n    </tr>\n    <tr>\n      <th>4</th>\n      <td>Resort Hotel</td>\n      <td>0</td>\n      <td>14.0</td>\n      <td>2015</td>\n      <td>July</td>\n      <td>27</td>\n      <td>1</td>\n      <td>0</td>\n      <td>2</td>\n      <td>2</td>\n      <td>...</td>\n      <td>No Deposit</td>\n      <td>240.0</td>\n      <td>NaN</td>\n      <td>0</td>\n      <td>Transient</td>\n      <td>98.0</td>\n      <td>0</td>\n      <td>1</td>\n      <td>Check-Out</td>\n      <td>03-07-2015</td>\n    </tr>\n    <tr>\n      <th>5</th>\n      <td>Resort Hotel</td>\n      <td>0</td>\n      <td>14.0</td>\n      <td>2015</td>\n      <td>July</td>\n      <td>27</td>\n      <td>1</td>\n      <td>0</td>\n      <td>2</td>\n      <td>2</td>\n      <td>...</td>\n      <td>No Deposit</td>\n      <td>240.0</td>\n      <td>NaN</td>\n      <td>0</td>\n      <td>Transient</td>\n      <td>98.0</td>\n      <td>0</td>\n      <td>1</td>\n      <td>Check-Out</td>\n      <td>03-07-2015</td>\n    </tr>\n    <tr>\n      <th>6</th>\n      <td>Resort Hotel</td>\n      <td>0</td>\n      <td>0.0</td>\n      <td>2015</td>\n      <td>July</td>\n      <td>27</td>\n      <td>1</td>\n      <td>0</td>\n      <td>2</td>\n      <td>2</td>\n      <td>...</td>\n      <td>No Deposit</td>\n      <td>NaN</td>\n      <td>NaN</td>\n      <td>0</td>\n      <td>Transient</td>\n      <td>107.0</td>\n      <td>0</td>\n      <td>0</td>\n      <td>Check-Out</td>\n      <td>03-07-2015</td>\n    </tr>\n    <tr>\n      <th>7</th>\n      <td>Resort Hotel</td>\n      <td>0</td>\n      <td>9.0</td>\n      <td>2015</td>\n      <td>July</td>\n      <td>27</td>\n      <td>1</td>\n      <td>0</td>\n      <td>2</td>\n      <td>2</td>\n      <td>...</td>\n      <td>No Deposit</td>\n      <td>303.0</td>\n      <td>NaN</td>\n      <td>0</td>\n      <td>Transient</td>\n      <td>103.0</td>\n      <td>0</td>\n      <td>1</td>\n      <td>Check-Out</td>\n      <td>03-07-2015</td>\n    </tr>\n    <tr>\n      <th>8</th>\n      <td>Resort Hotel</td>\n      <td>1</td>\n      <td>85.0</td>\n      <td>2015</td>\n      <td>July</td>\n      <td>27</td>\n      <td>1</td>\n      <td>0</td>\n      <td>3</td>\n      <td>2</td>\n      <td>...</td>\n      <td>No Deposit</td>\n      <td>240.0</td>\n      <td>NaN</td>\n      <td>0</td>\n      <td>Transient</td>\n      <td>82.0</td>\n      <td>0</td>\n      <td>1</td>\n      <td>Canceled</td>\n      <td>06-05-2015</td>\n    </tr>\n    <tr>\n      <th>9</th>\n      <td>Resort Hotel</td>\n      <td>1</td>\n      <td>75.0</td>\n      <td>2015</td>\n      <td>July</td>\n      <td>27</td>\n      <td>1</td>\n      <td>0</td>\n      <td>3</td>\n      <td>2</td>\n      <td>...</td>\n      <td>No Deposit</td>\n      <td>15.0</td>\n      <td>NaN</td>\n      <td>0</td>\n      <td>Transient</td>\n      <td>105.5</td>\n      <td>0</td>\n      <td>0</td>\n      <td>Canceled</td>\n      <td>22-04-2015</td>\n    </tr>\n  </tbody>\n</table>\n<p>10 rows × 32 columns</p>\n</div>"
     },
     "execution_count": 108,
     "metadata": {},
     "output_type": "execute_result"
    }
   ],
   "source": [
    "\n",
    "print(\"Number of rows=\",len(data))\n",
    "print(\"Number of columns=\", len(data.columns))\n",
    "data.head(10)"
   ]
  },
  {
   "cell_type": "markdown",
   "metadata": {
    "id": "cBG1YVWHjJbM"
   },
   "source": [
    "\n",
    "Q2) Hotel Booking website has many attributes which includes the information of user. How do you print all the keys (Attributes) present in the Dataset?\n",
    "\n",
    "**Task**: Print all the keys (Attributes) present in the Dataset [1 Mark]\n"
   ]
  },
  {
   "cell_type": "code",
   "execution_count": 109,
   "metadata": {
    "id": "SZzXP83-k69Q"
   },
   "outputs": [
    {
     "data": {
      "text/plain": "Index(['hotel', 'is_canceled', 'lead_time', 'arrival_date_year',\n       'arrival_date_month', 'arrival_date_week_number',\n       'arrival_date_day_of_month', 'stays_in_weekend_nights',\n       'stays_in_week_nights', 'adults', 'children', 'babies', 'meal',\n       'country', 'market_segment', 'distribution_channel',\n       'is_repeated_guest', 'previous_cancellations',\n       'previous_bookings_not_canceled', 'reserved_room_type',\n       'assigned_room_type', 'booking_changes', 'deposit_type', 'agent',\n       'company', 'days_in_waiting_list', 'customer_type', 'adr',\n       'required_car_parking_spaces', 'total_of_special_requests',\n       'reservation_status', 'reservation_status_date'],\n      dtype='object')"
     },
     "execution_count": 109,
     "metadata": {},
     "output_type": "execute_result"
    }
   ],
   "source": [
    "data.keys()"
   ]
  },
  {
   "cell_type": "markdown",
   "metadata": {
    "id": "oAHHOFrMlVVK"
   },
   "source": [
    "Q3) Hotel booking website created a new policy where a user need not to deposit any money beforehand. Due to this, the administration found out that there is no need of the column 'deposit_type'. Help them to remove this column. \n",
    "\n",
    "**Task**: Remove column 'deposit_type'. [1 mark]"
   ]
  },
  {
   "cell_type": "code",
   "execution_count": 110,
   "metadata": {
    "id": "dMXM-J3Wl-Ey"
   },
   "outputs": [],
   "source": [
    "data.drop('deposit_type',axis=1,inplace=True)"
   ]
  },
  {
   "cell_type": "markdown",
   "metadata": {
    "id": "t7vyI8lzmYCL"
   },
   "source": [
    "Q4) Hotel Booking Website stores information of user in Dataset.Write a program to access first seven cells from the given Dataset using the index and column labels.\n",
    "\n",
    "**Task**: Access first seven cells from the given Dataset using the index and column labels. [1 mark]"
   ]
  },
  {
   "cell_type": "code",
   "execution_count": 111,
   "metadata": {
    "id": "VVIZQNJppNeq"
   },
   "outputs": [
    {
     "data": {
      "text/plain": "          hotel  is_canceled  lead_time  arrival_date_year arrival_date_month  \\\n0  Resort Hotel            0      342.0               2015               July   \n1  Resort Hotel            0      737.0               2015               July   \n2  Resort Hotel            0        NaN               2015               July   \n3  Resort Hotel            0       13.0               2015               July   \n4  Resort Hotel            0       14.0               2015               July   \n5  Resort Hotel            0       14.0               2015               July   \n6  Resort Hotel            0        0.0               2015               July   \n\n   arrival_date_week_number  arrival_date_day_of_month  \\\n0                        27                          1   \n1                        27                          1   \n2                        27                          1   \n3                        27                          1   \n4                        27                          1   \n5                        27                          1   \n6                        27                          1   \n\n   stays_in_weekend_nights  stays_in_week_nights  adults  ...  \\\n0                        0                     0       2  ...   \n1                        0                     0       2  ...   \n2                        0                     1       1  ...   \n3                        0                     1       1  ...   \n4                        0                     2       2  ...   \n5                        0                     2       2  ...   \n6                        0                     2       2  ...   \n\n   booking_changes  agent company days_in_waiting_list customer_type    adr  \\\n0                3    NaN     NaN                    0     Transient    0.0   \n1                4    NaN     NaN                    0     Transient    0.0   \n2                0    NaN     NaN                    0     Transient   75.0   \n3                0  304.0     NaN                    0     Transient   75.0   \n4                0  240.0     NaN                    0     Transient   98.0   \n5                0  240.0     NaN                    0     Transient   98.0   \n6                0    NaN     NaN                    0     Transient  107.0   \n\n   required_car_parking_spaces  total_of_special_requests  reservation_status  \\\n0                            0                          0           Check-Out   \n1                            0                          0           Check-Out   \n2                            0                          0           Check-Out   \n3                            0                          0           Check-Out   \n4                            0                          1           Check-Out   \n5                            0                          1           Check-Out   \n6                            0                          0           Check-Out   \n\n  reservation_status_date  \n0              01-07-2015  \n1              01-07-2015  \n2              02-07-2015  \n3              02-07-2015  \n4              03-07-2015  \n5              03-07-2015  \n6              03-07-2015  \n\n[7 rows x 31 columns]",
      "text/html": "<div>\n<style scoped>\n    .dataframe tbody tr th:only-of-type {\n        vertical-align: middle;\n    }\n\n    .dataframe tbody tr th {\n        vertical-align: top;\n    }\n\n    .dataframe thead th {\n        text-align: right;\n    }\n</style>\n<table border=\"1\" class=\"dataframe\">\n  <thead>\n    <tr style=\"text-align: right;\">\n      <th></th>\n      <th>hotel</th>\n      <th>is_canceled</th>\n      <th>lead_time</th>\n      <th>arrival_date_year</th>\n      <th>arrival_date_month</th>\n      <th>arrival_date_week_number</th>\n      <th>arrival_date_day_of_month</th>\n      <th>stays_in_weekend_nights</th>\n      <th>stays_in_week_nights</th>\n      <th>adults</th>\n      <th>...</th>\n      <th>booking_changes</th>\n      <th>agent</th>\n      <th>company</th>\n      <th>days_in_waiting_list</th>\n      <th>customer_type</th>\n      <th>adr</th>\n      <th>required_car_parking_spaces</th>\n      <th>total_of_special_requests</th>\n      <th>reservation_status</th>\n      <th>reservation_status_date</th>\n    </tr>\n  </thead>\n  <tbody>\n    <tr>\n      <th>0</th>\n      <td>Resort Hotel</td>\n      <td>0</td>\n      <td>342.0</td>\n      <td>2015</td>\n      <td>July</td>\n      <td>27</td>\n      <td>1</td>\n      <td>0</td>\n      <td>0</td>\n      <td>2</td>\n      <td>...</td>\n      <td>3</td>\n      <td>NaN</td>\n      <td>NaN</td>\n      <td>0</td>\n      <td>Transient</td>\n      <td>0.0</td>\n      <td>0</td>\n      <td>0</td>\n      <td>Check-Out</td>\n      <td>01-07-2015</td>\n    </tr>\n    <tr>\n      <th>1</th>\n      <td>Resort Hotel</td>\n      <td>0</td>\n      <td>737.0</td>\n      <td>2015</td>\n      <td>July</td>\n      <td>27</td>\n      <td>1</td>\n      <td>0</td>\n      <td>0</td>\n      <td>2</td>\n      <td>...</td>\n      <td>4</td>\n      <td>NaN</td>\n      <td>NaN</td>\n      <td>0</td>\n      <td>Transient</td>\n      <td>0.0</td>\n      <td>0</td>\n      <td>0</td>\n      <td>Check-Out</td>\n      <td>01-07-2015</td>\n    </tr>\n    <tr>\n      <th>2</th>\n      <td>Resort Hotel</td>\n      <td>0</td>\n      <td>NaN</td>\n      <td>2015</td>\n      <td>July</td>\n      <td>27</td>\n      <td>1</td>\n      <td>0</td>\n      <td>1</td>\n      <td>1</td>\n      <td>...</td>\n      <td>0</td>\n      <td>NaN</td>\n      <td>NaN</td>\n      <td>0</td>\n      <td>Transient</td>\n      <td>75.0</td>\n      <td>0</td>\n      <td>0</td>\n      <td>Check-Out</td>\n      <td>02-07-2015</td>\n    </tr>\n    <tr>\n      <th>3</th>\n      <td>Resort Hotel</td>\n      <td>0</td>\n      <td>13.0</td>\n      <td>2015</td>\n      <td>July</td>\n      <td>27</td>\n      <td>1</td>\n      <td>0</td>\n      <td>1</td>\n      <td>1</td>\n      <td>...</td>\n      <td>0</td>\n      <td>304.0</td>\n      <td>NaN</td>\n      <td>0</td>\n      <td>Transient</td>\n      <td>75.0</td>\n      <td>0</td>\n      <td>0</td>\n      <td>Check-Out</td>\n      <td>02-07-2015</td>\n    </tr>\n    <tr>\n      <th>4</th>\n      <td>Resort Hotel</td>\n      <td>0</td>\n      <td>14.0</td>\n      <td>2015</td>\n      <td>July</td>\n      <td>27</td>\n      <td>1</td>\n      <td>0</td>\n      <td>2</td>\n      <td>2</td>\n      <td>...</td>\n      <td>0</td>\n      <td>240.0</td>\n      <td>NaN</td>\n      <td>0</td>\n      <td>Transient</td>\n      <td>98.0</td>\n      <td>0</td>\n      <td>1</td>\n      <td>Check-Out</td>\n      <td>03-07-2015</td>\n    </tr>\n    <tr>\n      <th>5</th>\n      <td>Resort Hotel</td>\n      <td>0</td>\n      <td>14.0</td>\n      <td>2015</td>\n      <td>July</td>\n      <td>27</td>\n      <td>1</td>\n      <td>0</td>\n      <td>2</td>\n      <td>2</td>\n      <td>...</td>\n      <td>0</td>\n      <td>240.0</td>\n      <td>NaN</td>\n      <td>0</td>\n      <td>Transient</td>\n      <td>98.0</td>\n      <td>0</td>\n      <td>1</td>\n      <td>Check-Out</td>\n      <td>03-07-2015</td>\n    </tr>\n    <tr>\n      <th>6</th>\n      <td>Resort Hotel</td>\n      <td>0</td>\n      <td>0.0</td>\n      <td>2015</td>\n      <td>July</td>\n      <td>27</td>\n      <td>1</td>\n      <td>0</td>\n      <td>2</td>\n      <td>2</td>\n      <td>...</td>\n      <td>0</td>\n      <td>NaN</td>\n      <td>NaN</td>\n      <td>0</td>\n      <td>Transient</td>\n      <td>107.0</td>\n      <td>0</td>\n      <td>0</td>\n      <td>Check-Out</td>\n      <td>03-07-2015</td>\n    </tr>\n  </tbody>\n</table>\n<p>7 rows × 31 columns</p>\n</div>"
     },
     "execution_count": 111,
     "metadata": {},
     "output_type": "execute_result"
    }
   ],
   "source": [
    "# x = data.iloc[:, [1, 2, 3, 4,5,6,7]].values\n",
    "# print(x)\n",
    "data.head(7)"
   ]
  },
  {
   "cell_type": "markdown",
   "metadata": {
    "id": "_mKGrg9mC8P7"
   },
   "source": [
    "Q5) Real-world data would certainly have missing values. This could be due to many reasons such as data entry errors or data collection problems. How to identify sum of all missing values in the given dataset? \n",
    "\n",
    "**Task**: Identify sum of all missing values in the given dataset [1 mark]"
   ]
  },
  {
   "cell_type": "code",
   "execution_count": 112,
   "metadata": {
    "id": "oL6EcDWaDRdP"
   },
   "outputs": [
    {
     "data": {
      "text/plain": "129432"
     },
     "execution_count": 112,
     "metadata": {},
     "output_type": "execute_result"
    }
   ],
   "source": [
    "data.isnull().sum().sum()"
   ]
  },
  {
   "cell_type": "markdown",
   "metadata": {
    "id": "xUXMevW37bWZ"
   },
   "source": [
    "\n",
    "Q6) When multiple columns are passed to the subset parameter, the method will consider a row to be a duplicate only if the values of all the specified columns in that row matches with the values of the specified columns in another row. How do you find duplicates in the given DataFrame?\n",
    "\n",
    "**Task**: Find duplicates in the given DataFrame. [1 mark]\n"
   ]
  },
  {
   "cell_type": "code",
   "execution_count": 113,
   "metadata": {
    "id": "qH2uYPn97d16"
   },
   "outputs": [
    {
     "data": {
      "text/plain": "31999"
     },
     "execution_count": 113,
     "metadata": {},
     "output_type": "execute_result"
    }
   ],
   "source": [
    "data.duplicated().sum()"
   ]
  },
  {
   "cell_type": "markdown",
   "metadata": {
    "id": "9FmtYPzPE8Pf"
   },
   "source": [
    "Q7)Lead time is the time taken between when a customer makes a reservation and their actual arrival. But there were instances where a customer hasen't arrived even though they reserved a room in the hotel(denoted by NaN). So inorder to calculate the overall statistics,the hotel administration decided to fill the NaN values with any suitable value. By analyzing, they found that they should replace it with the mean value. Your task is to replace all the values containing NaN in the lead time column.\n",
    "\n",
    "**Task**: Replace all the values containing NaN in the lead time column. [1 mark]\n"
   ]
  },
  {
   "cell_type": "code",
   "execution_count": 114,
   "metadata": {
    "id": "9iStVH8RF1nR"
   },
   "outputs": [
    {
     "name": "stdout",
     "output_type": "stream",
     "text": [
      "104.01368704086846\n"
     ]
    },
    {
     "data": {
      "text/plain": "               hotel  is_canceled   lead_time  arrival_date_year  \\\n0       Resort Hotel            0  342.000000               2015   \n1       Resort Hotel            0  737.000000               2015   \n2       Resort Hotel            0  104.013687               2015   \n3       Resort Hotel            0   13.000000               2015   \n4       Resort Hotel            0   14.000000               2015   \n...              ...          ...         ...                ...   \n119385    City Hotel            0   23.000000               2017   \n119386    City Hotel            0  102.000000               2017   \n119387    City Hotel            0   34.000000               2017   \n119388    City Hotel            0  109.000000               2017   \n119389    City Hotel            0  205.000000               2017   \n\n       arrival_date_month  arrival_date_week_number  \\\n0                    July                        27   \n1                    July                        27   \n2                    July                        27   \n3                    July                        27   \n4                    July                        27   \n...                   ...                       ...   \n119385             August                        35   \n119386             August                        35   \n119387             August                        35   \n119388             August                        35   \n119389             August                        35   \n\n        arrival_date_day_of_month  stays_in_weekend_nights  \\\n0                               1                        0   \n1                               1                        0   \n2                               1                        0   \n3                               1                        0   \n4                               1                        0   \n...                           ...                      ...   \n119385                         30                        2   \n119386                         31                        2   \n119387                         31                        2   \n119388                         31                        2   \n119389                         29                        2   \n\n        stays_in_week_nights  adults  ...  booking_changes  agent company  \\\n0                          0       2  ...                3    NaN     NaN   \n1                          0       2  ...                4    NaN     NaN   \n2                          1       1  ...                0    NaN     NaN   \n3                          1       1  ...                0  304.0     NaN   \n4                          2       2  ...                0  240.0     NaN   \n...                      ...     ...  ...              ...    ...     ...   \n119385                     5       2  ...                0  394.0     NaN   \n119386                     5       3  ...                0    9.0     NaN   \n119387                     5       2  ...                0    9.0     NaN   \n119388                     5       2  ...                0   89.0     NaN   \n119389                     7       2  ...                0    9.0     NaN   \n\n       days_in_waiting_list customer_type     adr  \\\n0                         0     Transient    0.00   \n1                         0     Transient    0.00   \n2                         0     Transient   75.00   \n3                         0     Transient   75.00   \n4                         0     Transient   98.00   \n...                     ...           ...     ...   \n119385                    0     Transient   96.14   \n119386                    0     Transient  225.43   \n119387                    0     Transient  157.71   \n119388                    0     Transient  104.40   \n119389                    0     Transient  151.20   \n\n        required_car_parking_spaces  total_of_special_requests  \\\n0                                 0                          0   \n1                                 0                          0   \n2                                 0                          0   \n3                                 0                          0   \n4                                 0                          1   \n...                             ...                        ...   \n119385                            0                          0   \n119386                            0                          2   \n119387                            0                          4   \n119388                            0                          0   \n119389                            0                          2   \n\n        reservation_status reservation_status_date  \n0                Check-Out              01-07-2015  \n1                Check-Out              01-07-2015  \n2                Check-Out              02-07-2015  \n3                Check-Out              02-07-2015  \n4                Check-Out              03-07-2015  \n...                    ...                     ...  \n119385           Check-Out              06-09-2017  \n119386           Check-Out              07-09-2017  \n119387           Check-Out              07-09-2017  \n119388           Check-Out              07-09-2017  \n119389           Check-Out              07-09-2017  \n\n[119390 rows x 31 columns]",
      "text/html": "<div>\n<style scoped>\n    .dataframe tbody tr th:only-of-type {\n        vertical-align: middle;\n    }\n\n    .dataframe tbody tr th {\n        vertical-align: top;\n    }\n\n    .dataframe thead th {\n        text-align: right;\n    }\n</style>\n<table border=\"1\" class=\"dataframe\">\n  <thead>\n    <tr style=\"text-align: right;\">\n      <th></th>\n      <th>hotel</th>\n      <th>is_canceled</th>\n      <th>lead_time</th>\n      <th>arrival_date_year</th>\n      <th>arrival_date_month</th>\n      <th>arrival_date_week_number</th>\n      <th>arrival_date_day_of_month</th>\n      <th>stays_in_weekend_nights</th>\n      <th>stays_in_week_nights</th>\n      <th>adults</th>\n      <th>...</th>\n      <th>booking_changes</th>\n      <th>agent</th>\n      <th>company</th>\n      <th>days_in_waiting_list</th>\n      <th>customer_type</th>\n      <th>adr</th>\n      <th>required_car_parking_spaces</th>\n      <th>total_of_special_requests</th>\n      <th>reservation_status</th>\n      <th>reservation_status_date</th>\n    </tr>\n  </thead>\n  <tbody>\n    <tr>\n      <th>0</th>\n      <td>Resort Hotel</td>\n      <td>0</td>\n      <td>342.000000</td>\n      <td>2015</td>\n      <td>July</td>\n      <td>27</td>\n      <td>1</td>\n      <td>0</td>\n      <td>0</td>\n      <td>2</td>\n      <td>...</td>\n      <td>3</td>\n      <td>NaN</td>\n      <td>NaN</td>\n      <td>0</td>\n      <td>Transient</td>\n      <td>0.00</td>\n      <td>0</td>\n      <td>0</td>\n      <td>Check-Out</td>\n      <td>01-07-2015</td>\n    </tr>\n    <tr>\n      <th>1</th>\n      <td>Resort Hotel</td>\n      <td>0</td>\n      <td>737.000000</td>\n      <td>2015</td>\n      <td>July</td>\n      <td>27</td>\n      <td>1</td>\n      <td>0</td>\n      <td>0</td>\n      <td>2</td>\n      <td>...</td>\n      <td>4</td>\n      <td>NaN</td>\n      <td>NaN</td>\n      <td>0</td>\n      <td>Transient</td>\n      <td>0.00</td>\n      <td>0</td>\n      <td>0</td>\n      <td>Check-Out</td>\n      <td>01-07-2015</td>\n    </tr>\n    <tr>\n      <th>2</th>\n      <td>Resort Hotel</td>\n      <td>0</td>\n      <td>104.013687</td>\n      <td>2015</td>\n      <td>July</td>\n      <td>27</td>\n      <td>1</td>\n      <td>0</td>\n      <td>1</td>\n      <td>1</td>\n      <td>...</td>\n      <td>0</td>\n      <td>NaN</td>\n      <td>NaN</td>\n      <td>0</td>\n      <td>Transient</td>\n      <td>75.00</td>\n      <td>0</td>\n      <td>0</td>\n      <td>Check-Out</td>\n      <td>02-07-2015</td>\n    </tr>\n    <tr>\n      <th>3</th>\n      <td>Resort Hotel</td>\n      <td>0</td>\n      <td>13.000000</td>\n      <td>2015</td>\n      <td>July</td>\n      <td>27</td>\n      <td>1</td>\n      <td>0</td>\n      <td>1</td>\n      <td>1</td>\n      <td>...</td>\n      <td>0</td>\n      <td>304.0</td>\n      <td>NaN</td>\n      <td>0</td>\n      <td>Transient</td>\n      <td>75.00</td>\n      <td>0</td>\n      <td>0</td>\n      <td>Check-Out</td>\n      <td>02-07-2015</td>\n    </tr>\n    <tr>\n      <th>4</th>\n      <td>Resort Hotel</td>\n      <td>0</td>\n      <td>14.000000</td>\n      <td>2015</td>\n      <td>July</td>\n      <td>27</td>\n      <td>1</td>\n      <td>0</td>\n      <td>2</td>\n      <td>2</td>\n      <td>...</td>\n      <td>0</td>\n      <td>240.0</td>\n      <td>NaN</td>\n      <td>0</td>\n      <td>Transient</td>\n      <td>98.00</td>\n      <td>0</td>\n      <td>1</td>\n      <td>Check-Out</td>\n      <td>03-07-2015</td>\n    </tr>\n    <tr>\n      <th>...</th>\n      <td>...</td>\n      <td>...</td>\n      <td>...</td>\n      <td>...</td>\n      <td>...</td>\n      <td>...</td>\n      <td>...</td>\n      <td>...</td>\n      <td>...</td>\n      <td>...</td>\n      <td>...</td>\n      <td>...</td>\n      <td>...</td>\n      <td>...</td>\n      <td>...</td>\n      <td>...</td>\n      <td>...</td>\n      <td>...</td>\n      <td>...</td>\n      <td>...</td>\n      <td>...</td>\n    </tr>\n    <tr>\n      <th>119385</th>\n      <td>City Hotel</td>\n      <td>0</td>\n      <td>23.000000</td>\n      <td>2017</td>\n      <td>August</td>\n      <td>35</td>\n      <td>30</td>\n      <td>2</td>\n      <td>5</td>\n      <td>2</td>\n      <td>...</td>\n      <td>0</td>\n      <td>394.0</td>\n      <td>NaN</td>\n      <td>0</td>\n      <td>Transient</td>\n      <td>96.14</td>\n      <td>0</td>\n      <td>0</td>\n      <td>Check-Out</td>\n      <td>06-09-2017</td>\n    </tr>\n    <tr>\n      <th>119386</th>\n      <td>City Hotel</td>\n      <td>0</td>\n      <td>102.000000</td>\n      <td>2017</td>\n      <td>August</td>\n      <td>35</td>\n      <td>31</td>\n      <td>2</td>\n      <td>5</td>\n      <td>3</td>\n      <td>...</td>\n      <td>0</td>\n      <td>9.0</td>\n      <td>NaN</td>\n      <td>0</td>\n      <td>Transient</td>\n      <td>225.43</td>\n      <td>0</td>\n      <td>2</td>\n      <td>Check-Out</td>\n      <td>07-09-2017</td>\n    </tr>\n    <tr>\n      <th>119387</th>\n      <td>City Hotel</td>\n      <td>0</td>\n      <td>34.000000</td>\n      <td>2017</td>\n      <td>August</td>\n      <td>35</td>\n      <td>31</td>\n      <td>2</td>\n      <td>5</td>\n      <td>2</td>\n      <td>...</td>\n      <td>0</td>\n      <td>9.0</td>\n      <td>NaN</td>\n      <td>0</td>\n      <td>Transient</td>\n      <td>157.71</td>\n      <td>0</td>\n      <td>4</td>\n      <td>Check-Out</td>\n      <td>07-09-2017</td>\n    </tr>\n    <tr>\n      <th>119388</th>\n      <td>City Hotel</td>\n      <td>0</td>\n      <td>109.000000</td>\n      <td>2017</td>\n      <td>August</td>\n      <td>35</td>\n      <td>31</td>\n      <td>2</td>\n      <td>5</td>\n      <td>2</td>\n      <td>...</td>\n      <td>0</td>\n      <td>89.0</td>\n      <td>NaN</td>\n      <td>0</td>\n      <td>Transient</td>\n      <td>104.40</td>\n      <td>0</td>\n      <td>0</td>\n      <td>Check-Out</td>\n      <td>07-09-2017</td>\n    </tr>\n    <tr>\n      <th>119389</th>\n      <td>City Hotel</td>\n      <td>0</td>\n      <td>205.000000</td>\n      <td>2017</td>\n      <td>August</td>\n      <td>35</td>\n      <td>29</td>\n      <td>2</td>\n      <td>7</td>\n      <td>2</td>\n      <td>...</td>\n      <td>0</td>\n      <td>9.0</td>\n      <td>NaN</td>\n      <td>0</td>\n      <td>Transient</td>\n      <td>151.20</td>\n      <td>0</td>\n      <td>2</td>\n      <td>Check-Out</td>\n      <td>07-09-2017</td>\n    </tr>\n  </tbody>\n</table>\n<p>119390 rows × 31 columns</p>\n</div>"
     },
     "execution_count": 114,
     "metadata": {},
     "output_type": "execute_result"
    }
   ],
   "source": [
    "av=data[\"lead_time\"].mean(skipna=True)\n",
    "print(av)\n",
    "data[\"lead_time\"].fillna(av,inplace=True)\n",
    "data"
   ]
  },
  {
   "cell_type": "markdown",
   "metadata": {
    "id": "igx2hgq5HApL"
   },
   "source": [
    "Q8) The hotel administration decided to compare the overall statistics. So for this initially they want to compare the market segment with respect to agent.Help the administration by plotting a bar graph between market segment and agent. Also find the median agents for each type of market segment.\n",
    "\n",
    "**Task-1**: Plot a graph between market segment and agent. [1/2 mark]\n",
    "\n",
    "**Task-2**: Find the median agents for each type of market segment. [1/2 mark]"
   ]
  },
  {
   "cell_type": "code",
   "execution_count": 115,
   "metadata": {
    "id": "7HpqJHW9IC3s"
   },
   "outputs": [
    {
     "data": {
      "text/plain": "market_segment\nAviation         153.0\nComplementary     45.0\nCorporate        185.0\nDirect            14.0\nGroups            19.0\nOffline TA/TO     39.0\nOnline TA          9.0\nUndefined          NaN\nName: agent, dtype: float64"
     },
     "execution_count": 115,
     "metadata": {},
     "output_type": "execute_result"
    },
    {
     "data": {
      "text/plain": "<Figure size 432x288 with 1 Axes>",
      "image/png": "[encoded data removed]"
     },
     "metadata": {
      "needs_background": "light"
     },
     "output_type": "display_data"
    }
   ],
   "source": [
    "x=data.groupby('market_segment')['agent'].count()\n",
    "x.plot(kind=\"bar\")\n",
    "data.groupby('market_segment')['agent'].median()\n"
   ]
  },
  {
   "cell_type": "markdown",
   "metadata": {
    "id": "WTPaY7YjSNf2"
   },
   "source": [
    "Q9)Help the administration to describe the statistics(mean,median,max, min,25 percentile,50 percentile,75 percentile) for the above dataset.\n",
    "\n",
    "**Task**: Describe the statistics of the dataframe. [1 mark]"
   ]
  },
  {
   "cell_type": "code",
   "execution_count": 116,
   "metadata": {
    "id": "ZbC9ZJeuSbAN"
   },
   "outputs": [
    {
     "data": {
      "text/plain": "         is_canceled      lead_time  arrival_date_year  \\\ncount  119390.000000  119390.000000      119390.000000   \nmean        0.370416     104.013687        2016.156554   \nstd         0.482918     106.862126           0.707476   \nmin         0.000000       0.000000        2015.000000   \n25%         0.000000      18.000000        2016.000000   \n50%         0.000000      69.000000        2016.000000   \n75%         1.000000     160.000000        2017.000000   \nmax         1.000000     737.000000        2017.000000   \n\n       arrival_date_week_number  arrival_date_day_of_month  \\\ncount             119390.000000              119390.000000   \nmean                  27.165173                  15.798241   \nstd                   13.605138                   8.780829   \nmin                    1.000000                   1.000000   \n25%                   16.000000                   8.000000   \n50%                   28.000000                  16.000000   \n75%                   38.000000                  23.000000   \nmax                   53.000000                  31.000000   \n\n       stays_in_weekend_nights  stays_in_week_nights         adults  \\\ncount            119390.000000         119390.000000  119390.000000   \nmean                  0.927599              2.500302       1.856403   \nstd                   0.998613              1.908286       0.579261   \nmin                   0.000000              0.000000       0.000000   \n25%                   0.000000              1.000000       2.000000   \n50%                   1.000000              2.000000       2.000000   \n75%                   2.000000              3.000000       2.000000   \nmax                  19.000000             50.000000      55.000000   \n\n            children         babies  is_repeated_guest  \\\ncount  119386.000000  119390.000000      119390.000000   \nmean        0.103890       0.007949           0.031912   \nstd         0.398561       0.097436           0.175767   \nmin         0.000000       0.000000           0.000000   \n25%         0.000000       0.000000           0.000000   \n50%         0.000000       0.000000           0.000000   \n75%         0.000000       0.000000           0.000000   \nmax        10.000000      10.000000           1.000000   \n\n       previous_cancellations  previous_bookings_not_canceled  \\\ncount           119390.000000                   119390.000000   \nmean                 0.087118                        0.137097   \nstd                  0.844336                        1.497437   \nmin                  0.000000                        0.000000   \n25%                  0.000000                        0.000000   \n50%                  0.000000                        0.000000   \n75%                  0.000000                        0.000000   \nmax                 26.000000                       72.000000   \n\n       booking_changes          agent      company  days_in_waiting_list  \\\ncount    119390.000000  103050.000000  6797.000000         119390.000000   \nmean          0.221124      86.693382   189.266735              2.321149   \nstd           0.652306     110.774548   131.655015             17.594721   \nmin           0.000000       1.000000     6.000000              0.000000   \n25%           0.000000       9.000000    62.000000              0.000000   \n50%           0.000000      14.000000   179.000000              0.000000   \n75%           0.000000     229.000000   270.000000              0.000000   \nmax          21.000000     535.000000   543.000000            391.000000   \n\n                 adr  required_car_parking_spaces  total_of_special_requests  \ncount  119390.000000                119390.000000              119390.000000  \nmean      101.831122                     0.062518                   0.571363  \nstd        50.535790                     0.245291                   0.792798  \nmin        -6.380000                     0.000000                   0.000000  \n25%        69.290000                     0.000000                   0.000000  \n50%        94.575000                     0.000000                   0.000000  \n75%       126.000000                     0.000000                   1.000000  \nmax      5400.000000                     8.000000                   5.000000  ",
      "text/html": "<div>\n<style scoped>\n    .dataframe tbody tr th:only-of-type {\n        vertical-align: middle;\n    }\n\n    .dataframe tbody tr th {\n        vertical-align: top;\n    }\n\n    .dataframe thead th {\n        text-align: right;\n    }\n</style>\n<table border=\"1\" class=\"dataframe\">\n  <thead>\n    <tr style=\"text-align: right;\">\n      <th></th>\n      <th>is_canceled</th>\n      <th>lead_time</th>\n      <th>arrival_date_year</th>\n      <th>arrival_date_week_number</th>\n      <th>arrival_date_day_of_month</th>\n      <th>stays_in_weekend_nights</th>\n      <th>stays_in_week_nights</th>\n      <th>adults</th>\n      <th>children</th>\n      <th>babies</th>\n      <th>is_repeated_guest</th>\n      <th>previous_cancellations</th>\n      <th>previous_bookings_not_canceled</th>\n      <th>booking_changes</th>\n      <th>agent</th>\n      <th>company</th>\n      <th>days_in_waiting_list</th>\n      <th>adr</th>\n      <th>required_car_parking_spaces</th>\n      <th>total_of_special_requests</th>\n    </tr>\n  </thead>\n  <tbody>\n    <tr>\n      <th>count</th>\n      <td>119390.000000</td>\n      <td>119390.000000</td>\n      <td>119390.000000</td>\n      <td>119390.000000</td>\n      <td>119390.000000</td>\n      <td>119390.000000</td>\n      <td>119390.000000</td>\n      <td>119390.000000</td>\n      <td>119386.000000</td>\n      <td>119390.000000</td>\n      <td>119390.000000</td>\n      <td>119390.000000</td>\n      <td>119390.000000</td>\n      <td>119390.000000</td>\n      <td>103050.000000</td>\n      <td>6797.000000</td>\n      <td>119390.000000</td>\n      <td>119390.000000</td>\n      <td>119390.000000</td>\n      <td>119390.000000</td>\n    </tr>\n    <tr>\n      <th>mean</th>\n      <td>0.370416</td>\n      <td>104.013687</td>\n      <td>2016.156554</td>\n      <td>27.165173</td>\n      <td>15.798241</td>\n      <td>0.927599</td>\n      <td>2.500302</td>\n      <td>1.856403</td>\n      <td>0.103890</td>\n      <td>0.007949</td>\n      <td>0.031912</td>\n      <td>0.087118</td>\n      <td>0.137097</td>\n      <td>0.221124</td>\n      <td>86.693382</td>\n      <td>189.266735</td>\n      <td>2.321149</td>\n      <td>101.831122</td>\n      <td>0.062518</td>\n      <td>0.571363</td>\n    </tr>\n    <tr>\n      <th>std</th>\n      <td>0.482918</td>\n      <td>106.862126</td>\n      <td>0.707476</td>\n      <td>13.605138</td>\n      <td>8.780829</td>\n      <td>0.998613</td>\n      <td>1.908286</td>\n      <td>0.579261</td>\n      <td>0.398561</td>\n      <td>0.097436</td>\n      <td>0.175767</td>\n      <td>0.844336</td>\n      <td>1.497437</td>\n      <td>0.652306</td>\n      <td>110.774548</td>\n      <td>131.655015</td>\n      <td>17.594721</td>\n      <td>50.535790</td>\n      <td>0.245291</td>\n      <td>0.792798</td>\n    </tr>\n    <tr>\n      <th>min</th>\n      <td>0.000000</td>\n      <td>0.000000</td>\n      <td>2015.000000</td>\n      <td>1.000000</td>\n      <td>1.000000</td>\n      <td>0.000000</td>\n      <td>0.000000</td>\n      <td>0.000000</td>\n      <td>0.000000</td>\n      <td>0.000000</td>\n      <td>0.000000</td>\n      <td>0.000000</td>\n      <td>0.000000</td>\n      <td>0.000000</td>\n      <td>1.000000</td>\n      <td>6.000000</td>\n      <td>0.000000</td>\n      <td>-6.380000</td>\n      <td>0.000000</td>\n      <td>0.000000</td>\n    </tr>\n    <tr>\n      <th>25%</th>\n      <td>0.000000</td>\n      <td>18.000000</td>\n      <td>2016.000000</td>\n      <td>16.000000</td>\n      <td>8.000000</td>\n      <td>0.000000</td>\n      <td>1.000000</td>\n      <td>2.000000</td>\n      <td>0.000000</td>\n      <td>0.000000</td>\n      <td>0.000000</td>\n      <td>0.000000</td>\n      <td>0.000000</td>\n      <td>0.000000</td>\n      <td>9.000000</td>\n      <td>62.000000</td>\n      <td>0.000000</td>\n      <td>69.290000</td>\n      <td>0.000000</td>\n      <td>0.000000</td>\n    </tr>\n    <tr>\n      <th>50%</th>\n      <td>0.000000</td>\n      <td>69.000000</td>\n      <td>2016.000000</td>\n      <td>28.000000</td>\n      <td>16.000000</td>\n      <td>1.000000</td>\n      <td>2.000000</td>\n      <td>2.000000</td>\n      <td>0.000000</td>\n      <td>0.000000</td>\n      <td>0.000000</td>\n      <td>0.000000</td>\n      <td>0.000000</td>\n      <td>0.000000</td>\n      <td>14.000000</td>\n      <td>179.000000</td>\n      <td>0.000000</td>\n      <td>94.575000</td>\n      <td>0.000000</td>\n      <td>0.000000</td>\n    </tr>\n    <tr>\n      <th>75%</th>\n      <td>1.000000</td>\n      <td>160.000000</td>\n      <td>2017.000000</td>\n      <td>38.000000</td>\n      <td>23.000000</td>\n      <td>2.000000</td>\n      <td>3.000000</td>\n      <td>2.000000</td>\n      <td>0.000000</td>\n      <td>0.000000</td>\n      <td>0.000000</td>\n      <td>0.000000</td>\n      <td>0.000000</td>\n      <td>0.000000</td>\n      <td>229.000000</td>\n      <td>270.000000</td>\n      <td>0.000000</td>\n      <td>126.000000</td>\n      <td>0.000000</td>\n      <td>1.000000</td>\n    </tr>\n    <tr>\n      <th>max</th>\n      <td>1.000000</td>\n      <td>737.000000</td>\n      <td>2017.000000</td>\n      <td>53.000000</td>\n      <td>31.000000</td>\n      <td>19.000000</td>\n      <td>50.000000</td>\n      <td>55.000000</td>\n      <td>10.000000</td>\n      <td>10.000000</td>\n      <td>1.000000</td>\n      <td>26.000000</td>\n      <td>72.000000</td>\n      <td>21.000000</td>\n      <td>535.000000</td>\n      <td>543.000000</td>\n      <td>391.000000</td>\n      <td>5400.000000</td>\n      <td>8.000000</td>\n      <td>5.000000</td>\n    </tr>\n  </tbody>\n</table>\n</div>"
     },
     "execution_count": 116,
     "metadata": {},
     "output_type": "execute_result"
    }
   ],
   "source": [
    "data.describe()\n",
    "#hello"
   ]
  },
  {
   "cell_type": "markdown",
   "source": [
    "Q10) The administration wants to contact the hotels used in the analysis. Since the dataset is huge it is difficult to find the number and names of the unique hotels manually.\n",
    "\n",
    "**Task**: Help the administration to find out the number of unique hotels and their names that have been considered in the analysis using pandas library functions [1 mark]"
   ],
   "metadata": {
    "id": "NM7692fpr_im"
   }
  },
  {
   "cell_type": "code",
   "source": [
    "len(data[\"hotel\"].unique())"
   ],
   "metadata": {
    "id": "yVKmKauCsE9O"
   },
   "execution_count": 117,
   "outputs": [
    {
     "data": {
      "text/plain": "2"
     },
     "execution_count": 117,
     "metadata": {},
     "output_type": "execute_result"
    }
   ]
  },
  {
   "cell_type": "code",
   "execution_count": 117,
   "outputs": [],
   "source": [],
   "metadata": {
    "collapsed": false,
    "pycharm": {
     "name": "#%%\n"
    }
   }
  }
 ],
 "metadata": {
  "colab": {
   "collapsed_sections": [],
   "name": "DM_W1.ipynb",
   "provenance": []
  },
  "kernelspec": {
   "display_name": "Python 3",
   "name": "python3"
  },
  "language_info": {
   "name": "python"
  }
 },
 "nbformat": 4,
 "nbformat_minor": 0
}